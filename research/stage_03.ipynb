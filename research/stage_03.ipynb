{
 "cells": [
  {
   "cell_type": "code",
   "execution_count": 1,
   "metadata": {},
   "outputs": [],
   "source": [
    "import os\n",
    "\n",
    "os.chdir(\"../\")"
   ]
  },
  {
   "cell_type": "code",
   "execution_count": 29,
   "metadata": {},
   "outputs": [],
   "source": [
    "from pydantic import BaseModel , FilePath , FileUrl , DirectoryPath , AnyUrl\n",
    "from pydantic.dataclasses import dataclass\n",
    "from pathlib import Path\n",
    "\n",
    "\n",
    "class PrepareCallbacksConfig (BaseModel):\n",
    "    root_dir: DirectoryPath\n",
    "    tensorboard_root_log_dir: DirectoryPath\n",
    "    checkpoint_model_filepath: Path\n",
    "    early_stopping_patience : int\n",
    "    early_stopping__monitor : str"
   ]
  },
  {
   "cell_type": "code",
   "execution_count": 30,
   "metadata": {},
   "outputs": [],
   "source": [
    "from BirdClassifier.constants import *\n",
    "from BirdClassifier.utils import create_directories, read_yaml"
   ]
  },
  {
   "cell_type": "code",
   "execution_count": 31,
   "metadata": {},
   "outputs": [],
   "source": [
    "class ConfigurationManager:\n",
    "    def __init__(\n",
    "        self, config_file_path=CONFIG_FILE_PATH, param_file_path=PARAMS_FILE_PATH\n",
    "    ) -> None:\n",
    "        self.config = read_yaml(config_file_path)\n",
    "        self.params = read_yaml(param_file_path)\n",
    "        create_directories([self.config.artifacts_root])\n",
    "\n",
    "    def get_prepare_callbacks_config(self) -> PrepareCallbacksConfig:\n",
    "        config = self.config.prepare_callbacks\n",
    "        model_checkpoint_dir = os.path.dirname(config.checkpoint_model_filepath)\n",
    "        create_directories([config.tensorboard_root_log_dir, model_checkpoint_dir])\n",
    "        prepare_callback_config = PrepareCallbacksConfig(\n",
    "            root_dir=Path(config.root_dir),\n",
    "            tensorboard_root_log_dir=Path(config.tensorboard_root_log_dir),\n",
    "            checkpoint_model_filepath=Path(config.checkpoint_model_filepath),\n",
    "            early_stopping_patience= self.params.EARLY_STOPPING_PATIENCE,\n",
    "            early_stopping__monitor = self.params.EARLY_STOPPING_MONITOR,\n",
    "        )\n",
    "        return prepare_callback_config"
   ]
  },
  {
   "cell_type": "code",
   "execution_count": 32,
   "metadata": {},
   "outputs": [],
   "source": [
    "import tensorflow as tf "
   ]
  },
  {
   "cell_type": "code",
   "execution_count": 37,
   "metadata": {},
   "outputs": [],
   "source": [
    "import time\n",
    "\n",
    "\n",
    "class PrepareCallbacks:\n",
    "    def __init__(self, config: PrepareCallbacksConfig):\n",
    "        self.config = config\n",
    "\n",
    "    @property\n",
    "    def _create_tb_callbacks(self):\n",
    "        timestamp = time.strftime(\"%Y-%m-%d-%H-%M-%S\")\n",
    "        tb_running_log_dir = os.path.join(\n",
    "            self.config.tensorboard_root_log_dir, f\"tb_log_at_{timestamp}\"\n",
    "        )\n",
    "        return tf.keras.callbacks.TensorBoard(log_dir=tb_running_log_dir)\n",
    "\n",
    "    @property\n",
    "    def _create_ckpt_callbacks(self):\n",
    "        return tf.keras.callbacks.ModelCheckpoint(\n",
    "            filepath=self.config.checkpoint_model_filepath , \n",
    "            save_best_only=True\n",
    "        )\n",
    "    @property\n",
    "    def _create_early_stopping_callbacks(self):\n",
    "        return tf.keras.callbacks.EarlyStopping(\n",
    "            monitor=self.config.early_stopping__monitor,\n",
    "            patience=self.config.early_stopping_patience,\n",
    "            restore_best_weights=True\n",
    "        )\n",
    "\n",
    "    def get_tb_ckpt_callback(self):\n",
    "        return [self._create_tb_callbacks, self._create_ckpt_callbacks , self._create_early_stopping_callbacks]"
   ]
  },
  {
   "cell_type": "code",
   "execution_count": 38,
   "metadata": {},
   "outputs": [
    {
     "name": "stderr",
     "output_type": "stream",
     "text": [
      "2022-09-30 01:16:49.380 | INFO     | BirdClassifier.utils.common:read_yaml:30 - yaml file: configs/config.yaml loaded successfully\n",
      "2022-09-30 01:16:49.382 | INFO     | BirdClassifier.utils.common:read_yaml:30 - yaml file: params.yaml loaded successfully\n",
      "2022-09-30 01:16:49.383 | INFO     | BirdClassifier.utils.common:create_directories:49 - created directory at: artifacts\n",
      "2022-09-30 01:16:49.384 | INFO     | BirdClassifier.utils.common:create_directories:49 - created directory at: artifacts/prepare_callbacks/tensorboard_log_dir\n",
      "2022-09-30 01:16:49.385 | INFO     | BirdClassifier.utils.common:create_directories:49 - created directory at: artifacts/prepare_callbacks/checkpoint_dir\n"
     ]
    }
   ],
   "source": [
    "try:\n",
    "    config = ConfigurationManager()\n",
    "    prepare_callbacks_config = config.get_prepare_callbacks_config()\n",
    "    prepare_callbacks = PrepareCallbacks(config=prepare_callbacks_config)\n",
    "    prepare_callbacks.get_tb_ckpt_callback()\n",
    "except Exception as e:\n",
    "    raise e"
   ]
  },
  {
   "cell_type": "code",
   "execution_count": null,
   "metadata": {},
   "outputs": [],
   "source": []
  }
 ],
 "metadata": {
  "kernelspec": {
   "display_name": "Python 3.8.13 (conda)",
   "language": "python",
   "name": "python3"
  },
  "language_info": {
   "codemirror_mode": {
    "name": "ipython",
    "version": 3
   },
   "file_extension": ".py",
   "mimetype": "text/x-python",
   "name": "python",
   "nbconvert_exporter": "python",
   "pygments_lexer": "ipython3",
   "version": "3.8.13"
  },
  "orig_nbformat": 4,
  "vscode": {
   "interpreter": {
    "hash": "3d9366193bdcd0ee3117fd525bc2129207b3bb8846f887ffdc700e03cbca0be1"
   }
  }
 },
 "nbformat": 4,
 "nbformat_minor": 2
}
