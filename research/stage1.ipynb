{
 "cells": [
  {
   "cell_type": "code",
   "execution_count": 1,
   "metadata": {},
   "outputs": [],
   "source": [
    "import os\n",
    "from collections import namedtuple\n",
    "\n",
    "os.chdir(\"../\")"
   ]
  },
  {
   "cell_type": "code",
   "execution_count": 2,
   "metadata": {},
   "outputs": [],
   "source": [
    "from pydantic import BaseModel , FilePath , FileUrl , DirectoryPath , AnyUrl\n",
    "from pydantic.dataclasses import dataclass\n",
    "\n",
    "@dataclass\n",
    "class DataIngestionConfig:\n",
    "    root_dir : DirectoryPath\n",
    "    source_url : str\n",
    "    local_file_name : str\n",
    "    unzip_dir : DirectoryPath"
   ]
  },
  {
   "cell_type": "code",
   "execution_count": 3,
   "metadata": {},
   "outputs": [],
   "source": [
    "@dataclass\n",
    "class DataIngestionConfig:\n",
    "    root_dir : DirectoryPath\n",
    "    source_url : str\n",
    "    local_file_name : str\n",
    "    unzip_dir : DirectoryPath\n"
   ]
  },
  {
   "cell_type": "code",
   "execution_count": null,
   "metadata": {},
   "outputs": [],
   "source": [
    "!kaggle datasets download -d gpiosenka/100-bird-species -p artifacts/data_ingestion/"
   ]
  },
  {
   "cell_type": "code",
   "execution_count": null,
   "metadata": {},
   "outputs": [],
   "source": [
    "import os \n",
    "os.makedirs(\"artifacts/data_ingestion\")"
   ]
  },
  {
   "cell_type": "code",
   "execution_count": null,
   "metadata": {},
   "outputs": [],
   "source": [
    "!unzip 100-bird-species.zip -d artifacts/data_ingestion/"
   ]
  },
  {
   "cell_type": "code",
   "execution_count": null,
   "metadata": {},
   "outputs": [],
   "source": [
    "!rm 100-bird-species.zip"
   ]
  },
  {
   "cell_type": "code",
   "execution_count": 6,
   "metadata": {},
   "outputs": [],
   "source": [
    "from BirdClassifier.constants import *\n",
    "from BirdClassifier.utils import read_yaml , create_directories  \n",
    "from BirdClassifier.logger import logger"
   ]
  },
  {
   "cell_type": "code",
   "execution_count": 7,
   "metadata": {},
   "outputs": [],
   "source": [
    "class ConfigurationManager:\n",
    "    def __init__(self , \n",
    "                 config_file_path = CONFIG_FILE_PATH , \n",
    "                 param_file_path = PARAMS_FILE_PATH) -> None:\n",
    "        self.config = read_yaml(config_file_path)\n",
    "        self.params = read_yaml(param_file_path)\n",
    "        logger.info(f\"Artifacts dir : {self.config.artifacts_root}\")\n",
    "        create_directories([self.config.artifacts_root])\n",
    "    \n",
    "    def get_data_ingestion_config(self) -> DataIngestionConfig:\n",
    "        config = self.config.data_ingestion \n",
    "        create_directories([config.root_dir])\n",
    "        \n",
    "        data_ingestion_config = DataIngestionConfig(root_dir=config.root_dir , \n",
    "                                                    source_url=config.source_url , \n",
    "                                                    local_file_name=config.local_data_file ,\n",
    "                                                    unzip_dir=config.unzip_dir)\n",
    "        return data_ingestion_config"
   ]
  },
  {
   "cell_type": "code",
   "execution_count": 8,
   "metadata": {},
   "outputs": [
    {
     "name": "stderr",
     "output_type": "stream",
     "text": [
      "2022-09-29 19:05:15.870 | INFO     | BirdClassifier.utils.common:read_yaml:29 - yaml file: configs/config.yaml loaded successfully\n",
      "2022-09-29 19:05:15.871 | INFO     | BirdClassifier.utils.common:read_yaml:29 - yaml file: params.yaml loaded successfully\n",
      "2022-09-29 19:05:15.871 | INFO     | __main__:__init__:7 - Artifacts dir : artifacts\n",
      "2022-09-29 19:05:15.872 | INFO     | BirdClassifier.utils.common:create_directories:47 - created directory at: artifacts\n"
     ]
    }
   ],
   "source": [
    "config = ConfigurationManager()"
   ]
  },
  {
   "cell_type": "code",
   "execution_count": 9,
   "metadata": {},
   "outputs": [
    {
     "name": "stderr",
     "output_type": "stream",
     "text": [
      "2022-09-29 19:05:18.590 | INFO     | BirdClassifier.utils.common:create_directories:47 - created directory at: artifacts/data_ingestion\n"
     ]
    },
    {
     "data": {
      "text/plain": [
       "DataIngestionConfig(root_dir=PosixPath('artifacts/data_ingestion'), source_url='gpiosenka/100-bird-species', local_file_name='artifacts/data_ingestion/100-bird-species.zip', unzip_dir=PosixPath('artifacts/data_ingestion'))"
      ]
     },
     "execution_count": 9,
     "metadata": {},
     "output_type": "execute_result"
    }
   ],
   "source": [
    "config.get_data_ingestion_config()"
   ]
  },
  {
   "cell_type": "code",
   "execution_count": 8,
   "metadata": {},
   "outputs": [],
   "source": [
    "import os \n",
    "import urllib.request as request \n",
    "from zipfile import ZipFile\n",
    "import kaggle\n",
    "import subprocess\n",
    "from BirdClassifier.logger import logger"
   ]
  },
  {
   "cell_type": "code",
   "execution_count": 9,
   "metadata": {},
   "outputs": [],
   "source": [
    "class DataIngestion:\n",
    "    def __init__(self, config: DataIngestionConfig):\n",
    "        self.config = config\n",
    "        logger.info(f'{\"#\"*10} STAGE ONE DATA INEGESTION STARTED {\"#\"*10}')\n",
    "    def download_file(self):\n",
    "        if not os.path.exists(self.config.local_file_name):\n",
    "            logger.info(f\" downloading data from kaggle {self.config.source_url}\")\n",
    "            subprocess.run(['kaggle', 'datasets', 'download', '-d', self.config.source_url, '-p', self.config.root_dir])\n",
    "          \n",
    "\n",
    "    # def _get_updated_list_of_files(self, list_of_files):\n",
    "    #     return [f for f in list_of_files if f.endswith(\".jpg\") and (\"Cat\" in f or \"Dog\" in f)]\n",
    "\n",
    "    # def _preprocess(self, zf: ZipFile, f: str, working_dir: str):\n",
    "    #     target_filepath = os.path.join(working_dir, f)\n",
    "    #     if not os.path.exists(target_filepath):\n",
    "    #         zf.extract(f, working_dir)\n",
    "        \n",
    "    #     if os.path.getsize(target_filepath) == 0:\n",
    "    #         os.remove(target_filepath)\n",
    "\n",
    "    def unzip_and_clean(self):\n",
    "        with ZipFile(file=self.config.local_file_name, mode=\"r\") as zf:\n",
    "            list_of_files = zf.namelist()\n",
    "            logger.info(f'folder and data description file : {list_of_files}')\n",
    "            zf.extractall(path=self.config.root_dir)\n",
    "            "
   ]
  },
  {
   "cell_type": "code",
   "execution_count": null,
   "metadata": {},
   "outputs": [],
   "source": [
    "try:\n",
    "    config = ConfigurationManager()\n",
    "    data_ingestion_config = config.get_data_ingestion_config()\n",
    "    data_ingestion = DataIngestion(config=data_ingestion_config)\n",
    "    data_ingestion.download_file()\n",
    "    data_ingestion.unzip_and_clean()\n",
    "except Exception as e:\n",
    "    raise e"
   ]
  },
  {
   "cell_type": "code",
   "execution_count": null,
   "metadata": {},
   "outputs": [],
   "source": []
  }
 ],
 "metadata": {
  "kernelspec": {
   "display_name": "Python 3.8.13 (conda)",
   "language": "python",
   "name": "python3"
  },
  "language_info": {
   "codemirror_mode": {
    "name": "ipython",
    "version": 3
   },
   "file_extension": ".py",
   "mimetype": "text/x-python",
   "name": "python",
   "nbconvert_exporter": "python",
   "pygments_lexer": "ipython3",
   "version": "3.8.13"
  },
  "orig_nbformat": 4,
  "vscode": {
   "interpreter": {
    "hash": "3d9366193bdcd0ee3117fd525bc2129207b3bb8846f887ffdc700e03cbca0be1"
   }
  }
 },
 "nbformat": 4,
 "nbformat_minor": 2
}
